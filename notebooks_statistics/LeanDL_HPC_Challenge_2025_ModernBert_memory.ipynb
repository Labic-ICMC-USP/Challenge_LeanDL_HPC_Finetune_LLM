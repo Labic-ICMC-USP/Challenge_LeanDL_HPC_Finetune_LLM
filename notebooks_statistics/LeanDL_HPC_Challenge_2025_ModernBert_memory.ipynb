{
  "cells": [
    {
      "cell_type": "markdown",
      "id": "30960be7",
      "metadata": {},
      "source": [
        "# Importando dados processados"
      ]
    },
    {
      "cell_type": "code",
      "execution_count": 1,
      "id": "e38c066d",
      "metadata": {},
      "outputs": [],
      "source": [
        "import pickle \n",
        "import datasets\n",
        "import pandas as pd\n",
        "import os\n",
        "import torch"
      ]
    },
    {
      "cell_type": "code",
      "execution_count": 2,
      "id": "ba7a4efe",
      "metadata": {},
      "outputs": [
        {
          "data": {
            "text/plain": [
              "'4.0.0'"
            ]
          },
          "execution_count": 2,
          "metadata": {},
          "output_type": "execute_result"
        }
      ],
      "source": [
        "datasets.__version__"
      ]
    },
    {
      "cell_type": "code",
      "execution_count": 3,
      "id": "10c3f8f6",
      "metadata": {},
      "outputs": [],
      "source": [
        "with open(\"./my_data.pickle\", \"rb\") as file:\n",
        "    split_train = pickle.load(file)\n",
        "    split_eval = pickle.load(file)\n",
        "    split_test = pickle.load(file)"
      ]
    },
    {
      "cell_type": "code",
      "execution_count": 4,
      "id": "975a8189",
      "metadata": {},
      "outputs": [],
      "source": [
        "train_df = split_train.to_pandas()\n",
        "eval_df = split_eval.to_pandas()\n",
        "test_df = split_test.to_pandas()"
      ]
    },
    {
      "cell_type": "markdown",
      "id": "iVZ8OoyLAvRj",
      "metadata": {
        "id": "iVZ8OoyLAvRj"
      },
      "source": [
        "# Exploração dos dados"
      ]
    },
    {
      "cell_type": "code",
      "execution_count": 5,
      "id": "RCE780PNAwg2",
      "metadata": {
        "colab": {
          "base_uri": "https://localhost:8080/"
        },
        "id": "RCE780PNAwg2",
        "outputId": "0151cf27-b209-4af9-e78f-4c5778131efb"
      },
      "outputs": [
        {
          "data": {
            "text/plain": [
              "Index(['hash_id', 'tema_id', 'tema', 'palavras_chave', 'uf_tema_info',\n",
              "       'uf_pesquisador', 'nome_programa', 'sigla_entidade_ensino',\n",
              "       'nome_producao', 'nome_subtipo_producao', 'nome_area_concentracao',\n",
              "       'nome_linha_pesquisa', 'nome_projeto', 'descricao_palavra_chave',\n",
              "       'descricao_resumo', 'descricao_abstract', 'descricao_keyword',\n",
              "       'data_titulacao', 'nome_grau_academico',\n",
              "       'nome_grande_area_conhecimento', 'nome_area_conhecimento',\n",
              "       'nome_subarea_conhecimento', 'nome_especialidade', 'modelo_nivel',\n",
              "       'modelo_explicacao', '__index_level_0__'],\n",
              "      dtype='object')"
            ]
          },
          "execution_count": 5,
          "metadata": {},
          "output_type": "execute_result"
        }
      ],
      "source": [
        "train_df.columns"
      ]
    },
    {
      "cell_type": "code",
      "execution_count": 6,
      "id": "dz2g9LYUA3Kh",
      "metadata": {
        "colab": {
          "base_uri": "https://localhost:8080/"
        },
        "id": "dz2g9LYUA3Kh",
        "outputId": "789d2409-99c7-4bdf-8feb-9d753e034911"
      },
      "outputs": [
        {
          "data": {
            "text/plain": [
              "(437, 33620)"
            ]
          },
          "execution_count": 6,
          "metadata": {},
          "output_type": "execute_result"
        }
      ],
      "source": [
        "train_df['tema'].nunique(), len(train_df)"
      ]
    },
    {
      "cell_type": "code",
      "execution_count": 7,
      "id": "e0SNbR3RCKII",
      "metadata": {
        "colab": {
          "base_uri": "https://localhost:8080/",
          "height": 210
        },
        "id": "e0SNbR3RCKII",
        "outputId": "f662d490-b79a-4a5d-8f3d-ca79f9dfed45"
      },
      "outputs": [
        {
          "data": {
            "text/plain": [
              "modelo_nivel\n",
              "BAIXA    0.478614\n",
              "MEDIA    0.308418\n",
              "ALTA     0.212968\n",
              "Name: count, dtype: float64"
            ]
          },
          "execution_count": 7,
          "metadata": {},
          "output_type": "execute_result"
        }
      ],
      "source": [
        "train_df['modelo_nivel'].value_counts()/len(train_df)"
      ]
    },
    {
      "cell_type": "code",
      "execution_count": 8,
      "id": "f282679c",
      "metadata": {},
      "outputs": [],
      "source": [
        "# TODO: remover\n",
        "# train_df = train_df.sample(5000, random_state=2025) # para teste"
      ]
    },
    {
      "cell_type": "markdown",
      "id": "1iqF6Tf6CS_N",
      "metadata": {
        "id": "1iqF6Tf6CS_N"
      },
      "source": [
        "# Preparando inputs para o ModernBert"
      ]
    },
    {
      "cell_type": "code",
      "execution_count": 9,
      "id": "EykZ11UjKKc0",
      "metadata": {
        "id": "EykZ11UjKKc0"
      },
      "outputs": [],
      "source": [
        "train_df = train_df.dropna()"
      ]
    },
    {
      "cell_type": "code",
      "execution_count": 10,
      "id": "lvNLUWKzH0Rn",
      "metadata": {
        "id": "lvNLUWKzH0Rn"
      },
      "outputs": [],
      "source": [
        "train_df['palavras_chave'] = train_df['palavras_chave'].apply(lambda array: \", \".join(array.tolist()))\n",
        "eval_df['palavras_chave'] = eval_df['palavras_chave'].apply(lambda array: \", \".join(array.tolist()))\n",
        "test_df['palavras_chave'] = test_df['palavras_chave'].apply(lambda array: \", \".join(array.tolist()))"
      ]
    },
    {
      "cell_type": "code",
      "execution_count": 11,
      "id": "ySG8oDqqBgeC",
      "metadata": {
        "colab": {
          "base_uri": "https://localhost:8080/"
        },
        "id": "ySG8oDqqBgeC",
        "outputId": "fabb8c6c-98b9-4818-f3fb-5502560158ed"
      },
      "outputs": [
        {
          "data": {
            "text/plain": [
              "{'nome_projeto': 'Nome projeto',\n",
              " 'descricao_palavra_chave': 'Descricao palavra chave',\n",
              " 'descricao_resumo': 'Descricao resumo',\n",
              " 'tema': 'Tema',\n",
              " 'palavras_chave': 'Palavras chave'}"
            ]
          },
          "execution_count": 11,
          "metadata": {},
          "output_type": "execute_result"
        }
      ],
      "source": [
        "# input_cols = ['nome_producao', 'nome_area_concentracao', 'nome_linha_pesquisa', 'nome_projeto', 'descricao_palavra_chave', 'descricao_resumo', 'tema', 'palavras_chave']\n",
        "input_cols = ['nome_projeto', 'descricao_palavra_chave', 'descricao_resumo', 'tema', 'palavras_chave']\n",
        "input_cols_mapping = {col: col.replace('_', ' ').capitalize() for col in input_cols}\n",
        "input_cols_mapping"
      ]
    },
    {
      "cell_type": "code",
      "execution_count": 12,
      "id": "uWu9mlyaD1Ti",
      "metadata": {
        "id": "uWu9mlyaD1Ti"
      },
      "outputs": [],
      "source": [
        "def create_input_from_row(row: pd.Series) -> str:\n",
        "  input_str = \"\"\n",
        "\n",
        "  for col, formated_name in input_cols_mapping.items():\n",
        "    input_str += f\"{formated_name}: {row[col].capitalize()}\\n\"\n",
        "\n",
        "  return input_str"
      ]
    },
    {
      "cell_type": "code",
      "execution_count": 13,
      "id": "FtB4igZvIiVt",
      "metadata": {
        "id": "FtB4igZvIiVt"
      },
      "outputs": [],
      "source": [
        "train_df[\"bert_raw_inputs\"] = [create_input_from_row(row) for _, row in train_df.iterrows()]\n",
        "eval_df[\"bert_raw_inputs\"] = [create_input_from_row(row) for _, row in eval_df.iterrows()]\n",
        "test_df[\"bert_raw_inputs\"] = [create_input_from_row(row) for _, row in test_df.iterrows()]"
      ]
    },
    {
      "cell_type": "markdown",
      "id": "27P5Ts_8IuSZ",
      "metadata": {
        "id": "27P5Ts_8IuSZ"
      },
      "source": [
        "# Splits de treino e teste"
      ]
    },
    {
      "cell_type": "code",
      "execution_count": 14,
      "id": "RIlrJ-EOIuII",
      "metadata": {
        "id": "RIlrJ-EOIuII"
      },
      "outputs": [],
      "source": [
        "from sklearn.model_selection import train_test_split\n",
        "from sklearn.preprocessing import LabelEncoder"
      ]
    },
    {
      "cell_type": "code",
      "execution_count": 15,
      "id": "sPwWkjroM-bh",
      "metadata": {
        "id": "sPwWkjroM-bh"
      },
      "outputs": [],
      "source": [
        "label_encoder = LabelEncoder()\n",
        "train_df['modelo_nivel'] = label_encoder.fit_transform(train_df['modelo_nivel'])\n",
        "eval_df['modelo_nivel'] = label_encoder.transform(eval_df['modelo_nivel'])\n",
        "test_df['modelo_nivel'] = label_encoder.transform(test_df['modelo_nivel'])\n"
      ]
    },
    {
      "cell_type": "markdown",
      "id": "SleSlvubK278",
      "metadata": {
        "id": "SleSlvubK278"
      },
      "source": [
        "# Hugginface"
      ]
    },
    {
      "cell_type": "code",
      "execution_count": 16,
      "id": "zdEMKZeCK43k",
      "metadata": {
        "id": "zdEMKZeCK43k"
      },
      "outputs": [],
      "source": [
        "from datasets import Dataset\n",
        "from transformers import AutoTokenizer, ModernBertForSequenceClassification\n",
        "from transformers import DataCollatorWithPadding"
      ]
    },
    {
      "cell_type": "code",
      "execution_count": 17,
      "id": "uwZWOI4jK7uR",
      "metadata": {
        "id": "uwZWOI4jK7uR"
      },
      "outputs": [],
      "source": [
        "train_ds = Dataset.from_dict(\n",
        "    {\n",
        "        \"text\": train_df['bert_raw_inputs'].tolist(),\n",
        "        \"label\": train_df['modelo_nivel'].tolist()\n",
        "    }\n",
        ")\n",
        "\n",
        "eval_ds = Dataset.from_dict(\n",
        "    {\n",
        "        \"text\": eval_df['bert_raw_inputs'].tolist(),\n",
        "        \"label\": eval_df['modelo_nivel'].tolist()\n",
        "    }\n",
        ")\n",
        "\n",
        "test_ds = Dataset.from_dict(\n",
        "    {\n",
        "        \"text\": test_df['bert_raw_inputs'].tolist(),\n",
        "        \"label\": test_df['modelo_nivel'].tolist()\n",
        "    }\n",
        ")"
      ]
    },
    {
      "cell_type": "code",
      "execution_count": 18,
      "id": "8f13f977",
      "metadata": {},
      "outputs": [
        {
          "name": "stdout",
          "output_type": "stream",
          "text": [
            "Memória usada antes de carregar modelo: 0.00 MB\n"
          ]
        }
      ],
      "source": [
        "torch.cuda.empty_cache()\n",
        "torch.cuda.reset_peak_memory_stats()\n",
        "memory_before = torch.cuda.memory_allocated()\n",
        "print(f\"Memória usada antes de carregar modelo: {memory_before/1024**2:.2f} MB\")"
      ]
    },
    {
      "cell_type": "code",
      "execution_count": 19,
      "id": "ZjGf0N6lLIB6",
      "metadata": {
        "colab": {
          "base_uri": "https://localhost:8080/"
        },
        "id": "ZjGf0N6lLIB6",
        "outputId": "63e40c0d-4fc5-47a5-9a14-b146cd34db56"
      },
      "outputs": [
        {
          "name": "stderr",
          "output_type": "stream",
          "text": [
            "Some weights of ModernBertForSequenceClassification were not initialized from the model checkpoint at answerdotai/ModernBERT-base and are newly initialized: ['classifier.bias', 'classifier.weight']\n",
            "You should probably TRAIN this model on a down-stream task to be able to use it for predictions and inference.\n"
          ]
        }
      ],
      "source": [
        "MAX_LEN = 1024\n",
        "FREEZE_ENCODER = False\n",
        "model = \"answerdotai/ModernBERT-base\"\n",
        "tokenizer = AutoTokenizer.from_pretrained(model, truncation_side='left')\n",
        "model = ModernBertForSequenceClassification.from_pretrained(model, num_labels=3, max_position_embeddings=MAX_LEN).to(\"cuda\") # talvez 2048"
      ]
    },
    {
      "cell_type": "code",
      "execution_count": 20,
      "id": "95b38075",
      "metadata": {},
      "outputs": [
        {
          "name": "stdout",
          "output_type": "stream",
          "text": [
            "Memória atualmente alocada: 590.40 MB\n",
            "Máxima memória usada até agora: 590.40 MB\n",
            "Memória usada pelo modelo: 590.40 MB\n"
          ]
        }
      ],
      "source": [
        "# Após um batch ou epoch\n",
        "memory_after = torch.cuda.memory_allocated()\n",
        "print(f\"Memória atualmente alocada: {torch.cuda.memory_allocated()/1024**2:.2f} MB\")\n",
        "print(f\"Máxima memória usada até agora: {torch.cuda.max_memory_allocated()/1024**2:.2f} MB\")\n",
        "print(f\"Memória usada pelo modelo: {(memory_after-memory_before)/1024**2:.2f} MB\")"
      ]
    },
    {
      "cell_type": "code",
      "execution_count": 21,
      "id": "b27dd01b",
      "metadata": {},
      "outputs": [
        {
          "data": {
            "text/plain": [
              "device(type='cuda', index=0)"
            ]
          },
          "execution_count": 21,
          "metadata": {},
          "output_type": "execute_result"
        }
      ],
      "source": [
        "model.device"
      ]
    },
    {
      "cell_type": "code",
      "execution_count": 22,
      "id": "8cHVGjvzLodI",
      "metadata": {
        "colab": {
          "base_uri": "https://localhost:8080/"
        },
        "id": "8cHVGjvzLodI",
        "outputId": "05bc94d7-94a5-4c84-83cf-d4d626103841"
      },
      "outputs": [
        {
          "data": {
            "text/plain": [
              "ModernBertForSequenceClassification(\n",
              "  (model): ModernBertModel(\n",
              "    (embeddings): ModernBertEmbeddings(\n",
              "      (tok_embeddings): Embedding(50368, 768, padding_idx=50283)\n",
              "      (norm): LayerNorm((768,), eps=1e-05, elementwise_affine=True)\n",
              "      (drop): Dropout(p=0.0, inplace=False)\n",
              "    )\n",
              "    (layers): ModuleList(\n",
              "      (0): ModernBertEncoderLayer(\n",
              "        (attn_norm): Identity()\n",
              "        (attn): ModernBertAttention(\n",
              "          (Wqkv): Linear(in_features=768, out_features=2304, bias=False)\n",
              "          (rotary_emb): ModernBertRotaryEmbedding()\n",
              "          (Wo): Linear(in_features=768, out_features=768, bias=False)\n",
              "          (out_drop): Identity()\n",
              "        )\n",
              "        (mlp_norm): LayerNorm((768,), eps=1e-05, elementwise_affine=True)\n",
              "        (mlp): ModernBertMLP(\n",
              "          (Wi): Linear(in_features=768, out_features=2304, bias=False)\n",
              "          (act): GELUActivation()\n",
              "          (drop): Dropout(p=0.0, inplace=False)\n",
              "          (Wo): Linear(in_features=1152, out_features=768, bias=False)\n",
              "        )\n",
              "      )\n",
              "      (1-21): 21 x ModernBertEncoderLayer(\n",
              "        (attn_norm): LayerNorm((768,), eps=1e-05, elementwise_affine=True)\n",
              "        (attn): ModernBertAttention(\n",
              "          (Wqkv): Linear(in_features=768, out_features=2304, bias=False)\n",
              "          (rotary_emb): ModernBertRotaryEmbedding()\n",
              "          (Wo): Linear(in_features=768, out_features=768, bias=False)\n",
              "          (out_drop): Identity()\n",
              "        )\n",
              "        (mlp_norm): LayerNorm((768,), eps=1e-05, elementwise_affine=True)\n",
              "        (mlp): ModernBertMLP(\n",
              "          (Wi): Linear(in_features=768, out_features=2304, bias=False)\n",
              "          (act): GELUActivation()\n",
              "          (drop): Dropout(p=0.0, inplace=False)\n",
              "          (Wo): Linear(in_features=1152, out_features=768, bias=False)\n",
              "        )\n",
              "      )\n",
              "    )\n",
              "    (final_norm): LayerNorm((768,), eps=1e-05, elementwise_affine=True)\n",
              "  )\n",
              "  (head): ModernBertPredictionHead(\n",
              "    (dense): Linear(in_features=768, out_features=768, bias=False)\n",
              "    (act): GELUActivation()\n",
              "    (norm): LayerNorm((768,), eps=1e-05, elementwise_affine=True)\n",
              "  )\n",
              "  (drop): Dropout(p=0.0, inplace=False)\n",
              "  (classifier): Linear(in_features=768, out_features=3, bias=True)\n",
              ")"
            ]
          },
          "execution_count": 22,
          "metadata": {},
          "output_type": "execute_result"
        }
      ],
      "source": [
        "model"
      ]
    },
    {
      "cell_type": "code",
      "execution_count": 23,
      "id": "b96396ba",
      "metadata": {},
      "outputs": [],
      "source": [
        "if FREEZE_ENCODER:\n",
        "    print(f\"- Freezing encoder layers\")\n",
        "    for param in model.model.parameters():\n",
        "        param.requires_grad = False"
      ]
    },
    {
      "cell_type": "markdown",
      "id": "7UkE1TRPQkYY",
      "metadata": {
        "id": "7UkE1TRPQkYY"
      },
      "source": [
        "# Analisando número de tokens no conjunto de dados inteiro"
      ]
    },
    {
      "cell_type": "code",
      "execution_count": 24,
      "id": "aNIqaU3RRa5S",
      "metadata": {
        "id": "aNIqaU3RRa5S"
      },
      "outputs": [],
      "source": [
        "def get_num_tokens(text: str) -> int:\n",
        "  return len(tokenizer.encode(text))"
      ]
    },
    {
      "cell_type": "code",
      "execution_count": 25,
      "id": "Vvewyel9SUvD",
      "metadata": {
        "id": "Vvewyel9SUvD"
      },
      "outputs": [],
      "source": [
        "sampled_df = train_df.sample(1000, random_state=2025)\n",
        "# sampled_df = dados_df"
      ]
    },
    {
      "cell_type": "code",
      "execution_count": 26,
      "id": "thtE_d8qMA4-",
      "metadata": {
        "id": "thtE_d8qMA4-"
      },
      "outputs": [],
      "source": [
        "sampled_df[\"num_tokens\"] = sampled_df[\"bert_raw_inputs\"].apply(get_num_tokens)"
      ]
    },
    {
      "cell_type": "code",
      "execution_count": 27,
      "id": "mHM-OrCwSdwJ",
      "metadata": {
        "colab": {
          "base_uri": "https://localhost:8080/",
          "height": 335
        },
        "id": "mHM-OrCwSdwJ",
        "outputId": "731e708c-0c5b-4d0b-8094-4aab2697ad62"
      },
      "outputs": [
        {
          "data": {
            "text/plain": [
              "count    1000.000000\n",
              "mean      910.950000\n",
              "std       270.799701\n",
              "min       241.000000\n",
              "25%       731.750000\n",
              "50%       876.000000\n",
              "75%      1068.500000\n",
              "max      4304.000000\n",
              "Name: num_tokens, dtype: float64"
            ]
          },
          "execution_count": 27,
          "metadata": {},
          "output_type": "execute_result"
        }
      ],
      "source": [
        "sampled_df[\"num_tokens\"].describe()"
      ]
    },
    {
      "cell_type": "code",
      "execution_count": 28,
      "id": "6Xop_33gShAS",
      "metadata": {
        "colab": {
          "base_uri": "https://localhost:8080/",
          "height": 335
        },
        "id": "6Xop_33gShAS",
        "outputId": "66e4c735-0976-4c25-ce9c-1bf8ea8889e6"
      },
      "outputs": [
        {
          "data": {
            "text/plain": [
              "count    1000.000000\n",
              "mean      910.950000\n",
              "std       270.799701\n",
              "min       241.000000\n",
              "25%       731.750000\n",
              "50%       876.000000\n",
              "75%      1068.500000\n",
              "max      4304.000000\n",
              "Name: num_tokens, dtype: float64"
            ]
          },
          "execution_count": 28,
          "metadata": {},
          "output_type": "execute_result"
        }
      ],
      "source": [
        "sampled_df[\"num_tokens\"].describe()"
      ]
    },
    {
      "cell_type": "code",
      "execution_count": 29,
      "id": "4d5841b2",
      "metadata": {},
      "outputs": [
        {
          "data": {
            "text/plain": [
              "np.float64(1021.3)"
            ]
          },
          "execution_count": 29,
          "metadata": {},
          "output_type": "execute_result"
        }
      ],
      "source": [
        "sampled_df[\"num_tokens\"].quantile(0.70)"
      ]
    },
    {
      "cell_type": "markdown",
      "id": "Cu0JZOAhd7_w",
      "metadata": {
        "id": "Cu0JZOAhd7_w"
      },
      "source": [
        "# Pre-processamento de Datasets"
      ]
    },
    {
      "cell_type": "code",
      "execution_count": 30,
      "id": "xPWjDUH2deuR",
      "metadata": {
        "id": "xPWjDUH2deuR"
      },
      "outputs": [],
      "source": [
        "from transformers import DataCollatorWithPadding"
      ]
    },
    {
      "cell_type": "code",
      "execution_count": 31,
      "id": "5ir27h0xcmUI",
      "metadata": {
        "id": "5ir27h0xcmUI"
      },
      "outputs": [],
      "source": [
        "def tokenizer_function(example):\n",
        "  # Em caso de uma tarefa de classificação de pares de texto, modificar este valor de retorno\n",
        "  # truncation=True, padding=\"max_length\", max_length=123 para truncar e padronizar os tamanhos de tokens!!!\n",
        "  return tokenizer(\n",
        "      example[\"text\"], truncation=True, max_length=MAX_LEN\n",
        "  )"
      ]
    },
    {
      "cell_type": "code",
      "execution_count": 32,
      "id": "stgVH7H2c-mA",
      "metadata": {
        "colab": {
          "base_uri": "https://localhost:8080/",
          "height": 81,
          "referenced_widgets": [
            "fd2a334c9801427bad43d0f577909373",
            "43a1c8c0ea054197a64423b736920a8e",
            "2d770cacc1c643048bd07fb695d9feab",
            "dbc66082c62b490fa51a30de84fb93ed",
            "1337d826cc1c432fb0ff426f76aa0a40",
            "c222a8bf0073423a8065d3ec330d5ee8",
            "833a450e4a914a68beeeac27ef2e808c",
            "7c901c88a5184cf49be3c99d2130d994",
            "7f2c3f88e34f421ca1c2f724b9a145f9",
            "eea7e6f921aa4311bdfd10973dc80211",
            "a6da50e3375f4dcdb9e7975e8fe07813",
            "6f3e73f3dad441cdbd7e94497543fa66",
            "6eb3b183113d42f5a44dcec5cbd1bb89",
            "3128da4fe1c64711ae51801d3ff854e2",
            "73a96be96b074ad5997ae68b5e2eb8ce",
            "0e046339f93946889a718fc04abb72d2",
            "e4626f82fbe5407ba5fba7f63cfec5f6",
            "2eee9befa38348a58e9e1f89be177aa5",
            "e6b279d9b02f4a0e9f670243083008b0",
            "e668ba65bdc342b5b749c7146f6f9f27",
            "18e619f6680440adb94aa980b1e89f97",
            "aeec25216770453cbf08207b00eb58a1"
          ]
        },
        "id": "stgVH7H2c-mA",
        "outputId": "c34c50ac-8390-4b36-e7d0-4bc35a730107"
      },
      "outputs": [
        {
          "data": {
            "application/vnd.jupyter.widget-view+json": {
              "model_id": "f3f31e26901c4dd4864cd0a290a773c7",
              "version_major": 2,
              "version_minor": 0
            },
            "text/plain": [
              "Map:   0%|          | 0/33620 [00:00<?, ? examples/s]"
            ]
          },
          "metadata": {},
          "output_type": "display_data"
        },
        {
          "data": {
            "application/vnd.jupyter.widget-view+json": {
              "model_id": "27bdc5ad2bc14a2ea82ba7f8ceea7bf6",
              "version_major": 2,
              "version_minor": 0
            },
            "text/plain": [
              "Map:   0%|          | 0/4203 [00:00<?, ? examples/s]"
            ]
          },
          "metadata": {},
          "output_type": "display_data"
        },
        {
          "data": {
            "application/vnd.jupyter.widget-view+json": {
              "model_id": "ae3ed701a7f24708974abeb82526dbf2",
              "version_major": 2,
              "version_minor": 0
            },
            "text/plain": [
              "Map:   0%|          | 0/4203 [00:00<?, ? examples/s]"
            ]
          },
          "metadata": {},
          "output_type": "display_data"
        }
      ],
      "source": [
        "# Tokenizando todos os elementos do conjunto de dados em batches\n",
        "train_ds = train_ds.map(tokenizer_function, batched=True)\n",
        "eval_ds = eval_ds.map(tokenizer_function, batched=True)\n",
        "test_ds = test_ds.map(tokenizer_function, batched=True)"
      ]
    },
    {
      "cell_type": "code",
      "execution_count": 33,
      "id": "qyrSEjnbdEVc",
      "metadata": {
        "id": "qyrSEjnbdEVc"
      },
      "outputs": [],
      "source": [
        "# Mantendo apenas colunas cujos nomes coincidam com os métodos forward dos transformers\n",
        "train_ds = train_ds.remove_columns(column_names=[\"text\"])\n",
        "train_ds = train_ds.rename_column(\"label\", \"labels\")\n",
        "train_ds = train_ds.with_format(\"torch\")\n",
        "\n",
        "eval_ds = eval_ds.remove_columns(column_names=[\"text\"])\n",
        "eval_ds = eval_ds.rename_column(\"label\", \"labels\")\n",
        "eval_ds = eval_ds.with_format(\"torch\")\n",
        "\n",
        "test_ds = test_ds.remove_columns(column_names=[\"text\"])\n",
        "test_ds = test_ds.rename_column(\"label\", \"labels\")\n",
        "test_ds = test_ds.with_format(\"torch\")"
      ]
    },
    {
      "cell_type": "code",
      "execution_count": 34,
      "id": "92nWl1g0dZZ_",
      "metadata": {
        "colab": {
          "base_uri": "https://localhost:8080/"
        },
        "id": "92nWl1g0dZZ_",
        "outputId": "d45d2164-eccf-4060-b2ae-e4eac083c5d5"
      },
      "outputs": [
        {
          "data": {
            "text/plain": [
              "Dataset({\n",
              "    features: ['labels', 'input_ids', 'attention_mask'],\n",
              "    num_rows: 33620\n",
              "})"
            ]
          },
          "execution_count": 34,
          "metadata": {},
          "output_type": "execute_result"
        }
      ],
      "source": [
        "train_ds"
      ]
    },
    {
      "cell_type": "code",
      "execution_count": 35,
      "id": "GlZXmH-xddW6",
      "metadata": {
        "id": "GlZXmH-xddW6"
      },
      "outputs": [],
      "source": [
        "# Collator para Dynamic Padding\n",
        "collator = DataCollatorWithPadding(tokenizer, padding=\"longest\")"
      ]
    },
    {
      "cell_type": "markdown",
      "id": "a75e3cae",
      "metadata": {},
      "source": [
        "# Implementando trainer com loss customizada"
      ]
    },
    {
      "cell_type": "code",
      "execution_count": 36,
      "id": "ecb9858f",
      "metadata": {},
      "outputs": [],
      "source": [
        "from transformers import Trainer, TrainingArguments\n",
        "import torch\n",
        "import torch.nn as nn\n",
        "from typing import Any, Optional, Union"
      ]
    },
    {
      "cell_type": "code",
      "execution_count": 37,
      "id": "cb135abc",
      "metadata": {},
      "outputs": [
        {
          "data": {
            "text/plain": [
              "modelo_nivel\n",
              "0     7160\n",
              "1    16091\n",
              "2    10369\n",
              "Name: count, dtype: int64"
            ]
          },
          "execution_count": 37,
          "metadata": {},
          "output_type": "execute_result"
        }
      ],
      "source": [
        "train_df['modelo_nivel'].value_counts().loc[[0,1,2]]"
      ]
    },
    {
      "cell_type": "code",
      "execution_count": 38,
      "id": "6e27888f",
      "metadata": {},
      "outputs": [],
      "source": [
        "# inverso da frequência (ajustado para só 3 classes)\n",
        "class_counts = torch.tensor(train_df['modelo_nivel'].value_counts().loc[[0,1,2]].values, dtype=torch.float, device=\"cuda\" if torch.cuda.is_available() else \"cpu\")\n",
        "class_weights = 1.0 / class_counts\n",
        "class_weights = class_weights / class_weights.sum() * len(class_counts)"
      ]
    },
    {
      "cell_type": "code",
      "execution_count": 39,
      "id": "5a64047c",
      "metadata": {},
      "outputs": [],
      "source": [
        "# Supondo que você já tenha contado os exemplos por classe\n",
        "# class_counts = [100, 300, 50]  # Exemplo para 3 classes\n",
        "# class_weights = [1.0 / c for c in class_counts]  # inversamente proporcional à frequência\n",
        "# class_weights = torch.tensor(class_weights, dtype=torch.float).to(\"cuda\")\n",
        "\n",
        "loss_fn = nn.CrossEntropyLoss(weight=class_weights)\n",
        "\n",
        "\n",
        "class WeightedTrainer(Trainer):\n",
        "\n",
        "    def compute_loss(self, model, inputs, return_outputs=False, num_items_in_batch: Optional[torch.Tensor] = None):\n",
        "        labels = inputs.pop(\"labels\")\n",
        "        outputs = model(**inputs)\n",
        "        logits = outputs.logits\n",
        "        loss = loss_fn(logits, labels) # usa a loss_fn definida acima\n",
        "\n",
        "        return (loss, outputs) if return_outputs else loss"
      ]
    },
    {
      "cell_type": "markdown",
      "id": "GvEYK0M5ecfH",
      "metadata": {
        "id": "GvEYK0M5ecfH"
      },
      "source": [
        "# Configurando Trainer"
      ]
    },
    {
      "cell_type": "code",
      "execution_count": 40,
      "id": "w8Exwa5TebcJ",
      "metadata": {
        "id": "w8Exwa5TebcJ"
      },
      "outputs": [],
      "source": [
        "from transformers import get_cosine_schedule_with_warmup, get_constant_schedule\n",
        "from torch.optim import AdamW\n",
        "from transformers import EarlyStoppingCallback\n",
        "from codecarbon import EmissionsTracker # para calcular emissões de CO2\n",
        "from transformers import set_seed\n",
        "import math\n",
        "import torch\n",
        "import time"
      ]
    },
    {
      "cell_type": "code",
      "execution_count": 41,
      "id": "7qf6N__Geh-l",
      "metadata": {
        "id": "7qf6N__Geh-l"
      },
      "outputs": [],
      "source": [
        "balanced_loss = False\n",
        "bs = 32\n",
        "acc_steps = 1\n",
        "epochs = 1\n",
        "lr = 2e-4\n",
        "wd = 1e-3\n",
        "patience = 2\n",
        "seed = 42\n",
        "output_dir = f\"./models_outputs/modern_bert_{epochs}epochs_{bs}bs_{lr}lr_{wd}wd_{acc_steps}accsteps/\"\n",
        "train_code_carbon_out = 'modernbert_fine_tuning_emissions_training.csv'\n",
        "inference_code_carbon_out = 'modernbert_fine_tuning_emissions_inference.csv'\n",
        "\n",
        "warmup_steps = math.ceil((len(train_ds)/bs) * epochs * 0.1) #10% of train data for warm-up\n",
        "train_steps = int(epochs * len(train_ds)/bs)\n",
        "es_callback = EarlyStoppingCallback(early_stopping_patience=patience)"
      ]
    },
    {
      "cell_type": "code",
      "execution_count": 42,
      "id": "cDj3aYrdevuM",
      "metadata": {
        "colab": {
          "base_uri": "https://localhost:8080/"
        },
        "id": "cDj3aYrdevuM",
        "outputId": "828a4880-b5e7-4d98-d06b-fc6a44c985a8"
      },
      "outputs": [
        {
          "data": {
            "text/plain": [
              "(106, 1050)"
            ]
          },
          "execution_count": 42,
          "metadata": {},
          "output_type": "execute_result"
        }
      ],
      "source": [
        "warmup_steps, train_steps"
      ]
    },
    {
      "cell_type": "code",
      "execution_count": 43,
      "id": "FusH0lqPeydx",
      "metadata": {
        "id": "FusH0lqPeydx"
      },
      "outputs": [],
      "source": [
        "import numpy as np\n",
        "from sklearn.metrics import classification_report\n",
        "# from datasets import load_metric\n",
        "\n",
        "def compute_metrics(eval_pred):\n",
        "    logits, labels = eval_pred\n",
        "    predictions = np.argmax(logits, axis=-1)\n",
        "    metrics_dict = classification_report(labels, predictions, output_dict=True)\n",
        "\n",
        "    return {\n",
        "        \"accuracy\": metrics_dict[\"accuracy\"],\n",
        "        \"precision\": metrics_dict[\"macro avg\"][\"precision\"],\n",
        "        \"recall\": metrics_dict[\"macro avg\"][\"recall\"],\n",
        "        \"f1\": metrics_dict[\"macro avg\"][\"f1-score\"]\n",
        "    }\n"
      ]
    },
    {
      "cell_type": "code",
      "execution_count": 44,
      "id": "SOBpncfLbAQN",
      "metadata": {
        "id": "SOBpncfLbAQN"
      },
      "outputs": [],
      "source": [
        "# optimizer = AdamW(model.parameters(), lr=lr)\n",
        "# # scheduler = get_cosine_schedule_with_warmup(optimizer, num_warmup_steps=warmup_steps, num_training_steps=train_steps, num_cycles=0.5)\n",
        "# scheduler = get_constant_schedule(optimizer) # testar este tbm"
      ]
    },
    {
      "cell_type": "code",
      "execution_count": 45,
      "id": "0dfae037",
      "metadata": {},
      "outputs": [],
      "source": [
        "set_seed(seed)"
      ]
    },
    {
      "cell_type": "code",
      "execution_count": 46,
      "id": "WUwiB8mKfgqd",
      "metadata": {
        "id": "WUwiB8mKfgqd"
      },
      "outputs": [],
      "source": [
        "training_args = TrainingArguments(\n",
        "    output_dir=output_dir,\n",
        "    num_train_epochs=epochs,                                                                              # total number of training epochs\n",
        "    per_device_train_batch_size=bs,                                                                       # batch size per device during training\n",
        "    per_device_eval_batch_size=bs,                                                                        # batch size for evaluation\n",
        "    # warmup_steps=warmup_steps,                                                                            # number of warmup steps for learning rate scheduler\n",
        "    eval_strategy=\"epoch\",\n",
        "    save_strategy=\"epoch\",                                                                                # evaluation interval\n",
        "    logging_dir=f\"{output_dir}/logs\",                                                                                 # directory for storing logs\n",
        "    save_total_limit=patience+1,                                                                              # checkpoint save interval\n",
        "    report_to='none',\n",
        "    gradient_accumulation_steps=acc_steps,\n",
        "    metric_for_best_model='loss',\n",
        "    greater_is_better=False,\n",
        "    load_best_model_at_end=True,\n",
        "    bf16=True,\n",
        "    learning_rate=lr,\n",
        "    weight_decay=wd,\n",
        "    warmup_ratio=0.03,\n",
        "    logging_steps=100,\n",
        "    logging_strategy='steps',\n",
        "    log_level=\"info\",\n",
        "    seed=seed\n",
        ")\n"
      ]
    },
    {
      "cell_type": "code",
      "execution_count": null,
      "id": "b10065c6",
      "metadata": {},
      "outputs": [],
      "source": []
    },
    {
      "cell_type": "code",
      "execution_count": 47,
      "id": "QFdvyS8af-L5",
      "metadata": {
        "id": "QFdvyS8af-L5"
      },
      "outputs": [
        {
          "name": "stderr",
          "output_type": "stream",
          "text": [
            "Using auto half precision backend\n"
          ]
        },
        {
          "name": "stdout",
          "output_type": "stream",
          "text": [
            "Using standard loss\n"
          ]
        }
      ],
      "source": [
        "if balanced_loss:\n",
        "    print(f\"Using balanced loss with class weights: {class_weights}\")\n",
        "    trainer = WeightedTrainer(\n",
        "        model,\n",
        "        args=training_args,\n",
        "        train_dataset=train_ds,\n",
        "        eval_dataset=eval_ds,\n",
        "        compute_metrics=compute_metrics,\n",
        "        # optimizers=(optimizer, scheduler),\n",
        "        data_collator=collator\n",
        "    )\n",
        "else:\n",
        "    print(f\"Using standard loss\")\n",
        "    trainer = Trainer(\n",
        "        model,\n",
        "        args=training_args,\n",
        "        train_dataset=train_ds.select( range(int(len(train_ds)*0.02)) ),\n",
        "        eval_dataset=eval_ds.select( range(int(len(eval_ds)*0.02)) ),\n",
        "        compute_metrics=compute_metrics,\n",
        "        # optimizers=(optimizer, scheduler),\n",
        "        data_collator=collator\n",
        "    )\n",
        "\n",
        "trainer.add_callback(es_callback)"
      ]
    },
    {
      "cell_type": "code",
      "execution_count": 48,
      "id": "2412c8ee",
      "metadata": {},
      "outputs": [
        {
          "name": "stdout",
          "output_type": "stream",
          "text": [
            "cuda:0\n"
          ]
        }
      ],
      "source": [
        "print( model.device )"
      ]
    },
    {
      "cell_type": "code",
      "execution_count": 49,
      "id": "jsWGY8XvgC1Y",
      "metadata": {
        "colab": {
          "base_uri": "https://localhost:8080/",
          "height": 571
        },
        "id": "jsWGY8XvgC1Y",
        "outputId": "9f4cb8a0-5755-40d4-e7cd-ee9081a940da"
      },
      "outputs": [
        {
          "name": "stderr",
          "output_type": "stream",
          "text": [
            "***** Running training *****\n",
            "  Num examples = 672\n",
            "  Num Epochs = 1\n",
            "  Instantaneous batch size per device = 32\n",
            "  Total train batch size (w. parallel, distributed & accumulation) = 32\n",
            "  Gradient Accumulation steps = 1\n",
            "  Total optimization steps = 21\n",
            "  Number of trainable parameters = 149,607,171\n"
          ]
        },
        {
          "name": "stdout",
          "output_type": "stream",
          "text": [
            "Memória ANTE DO treino: 590.41 MB\n"
          ]
        },
        {
          "data": {
            "text/html": [
              "\n",
              "    <div>\n",
              "      \n",
              "      <progress value='21' max='21' style='width:300px; height:20px; vertical-align: middle;'></progress>\n",
              "      [21/21 00:26, Epoch 1/1]\n",
              "    </div>\n",
              "    <table border=\"1\" class=\"dataframe\">\n",
              "  <thead>\n",
              " <tr style=\"text-align: left;\">\n",
              "      <th>Epoch</th>\n",
              "      <th>Training Loss</th>\n",
              "      <th>Validation Loss</th>\n",
              "      <th>Accuracy</th>\n",
              "      <th>Precision</th>\n",
              "      <th>Recall</th>\n",
              "      <th>F1</th>\n",
              "    </tr>\n",
              "  </thead>\n",
              "  <tbody>\n",
              "    <tr>\n",
              "      <td>1</td>\n",
              "      <td>No log</td>\n",
              "      <td>1.005580</td>\n",
              "      <td>0.523810</td>\n",
              "      <td>0.174603</td>\n",
              "      <td>0.333333</td>\n",
              "      <td>0.229167</td>\n",
              "    </tr>\n",
              "  </tbody>\n",
              "</table><p>"
            ],
            "text/plain": [
              "<IPython.core.display.HTML object>"
            ]
          },
          "metadata": {},
          "output_type": "display_data"
        },
        {
          "name": "stderr",
          "output_type": "stream",
          "text": [
            "\n",
            "***** Running Evaluation *****\n",
            "  Num examples = 84\n",
            "  Batch size = 32\n",
            "/home/rvsantin/miniconda3/envs/challenge_bonito/lib/python3.11/site-packages/sklearn/metrics/_classification.py:1731: UndefinedMetricWarning: Precision is ill-defined and being set to 0.0 in labels with no predicted samples. Use `zero_division` parameter to control this behavior.\n",
            "  _warn_prf(average, modifier, f\"{metric.capitalize()} is\", result.shape[0])\n",
            "/home/rvsantin/miniconda3/envs/challenge_bonito/lib/python3.11/site-packages/sklearn/metrics/_classification.py:1731: UndefinedMetricWarning: Precision is ill-defined and being set to 0.0 in labels with no predicted samples. Use `zero_division` parameter to control this behavior.\n",
            "  _warn_prf(average, modifier, f\"{metric.capitalize()} is\", result.shape[0])\n",
            "/home/rvsantin/miniconda3/envs/challenge_bonito/lib/python3.11/site-packages/sklearn/metrics/_classification.py:1731: UndefinedMetricWarning: Precision is ill-defined and being set to 0.0 in labels with no predicted samples. Use `zero_division` parameter to control this behavior.\n",
            "  _warn_prf(average, modifier, f\"{metric.capitalize()} is\", result.shape[0])\n",
            "Saving model checkpoint to ./models_outputs/modern_bert_1epochs_32bs_0.0002lr_0.001wd_1accsteps/checkpoint-21\n",
            "Configuration saved in ./models_outputs/modern_bert_1epochs_32bs_0.0002lr_0.001wd_1accsteps/checkpoint-21/config.json\n",
            "Model weights saved in ./models_outputs/modern_bert_1epochs_32bs_0.0002lr_0.001wd_1accsteps/checkpoint-21/model.safetensors\n",
            "Saving Trainer.data_collator.tokenizer by default as Trainer.processing_class is `None`\n",
            "tokenizer config file saved in ./models_outputs/modern_bert_1epochs_32bs_0.0002lr_0.001wd_1accsteps/checkpoint-21/tokenizer_config.json\n",
            "Special tokens file saved in ./models_outputs/modern_bert_1epochs_32bs_0.0002lr_0.001wd_1accsteps/checkpoint-21/special_tokens_map.json\n",
            "\n",
            "\n",
            "Training completed. Do not forget to share your model on huggingface.co/models =)\n",
            "\n",
            "\n",
            "Loading best model from ./models_outputs/modern_bert_1epochs_32bs_0.0002lr_0.001wd_1accsteps/checkpoint-21 (score: 1.0055803060531616).\n"
          ]
        },
        {
          "name": "stdout",
          "output_type": "stream",
          "text": [
            "Memória atualmente alocada: 1758.57 MB\n",
            "Máxima memória usada até agora: 21306.83 MB\n",
            "Memória usada no treinamento: 1168.16 MB\n"
          ]
        }
      ],
      "source": [
        "torch.cuda.empty_cache()\n",
        "torch.cuda.reset_peak_memory_stats()\n",
        "memory_before = torch.cuda.memory_allocated()\n",
        "print(f\"Memória ANTE DO treino: {memory_before/1024**2:.2f} MB\")\n",
        "trainer.train()\n",
        "memory_after = torch.cuda.memory_allocated()\n",
        "print(f\"Memória atualmente alocada: {torch.cuda.memory_allocated()/1024**2:.2f} MB\")\n",
        "print(f\"Máxima memória usada até agora: {torch.cuda.max_memory_allocated()/1024**2:.2f} MB\")\n",
        "print(f\"Memória usada no treinamento: {(memory_after-memory_before)/1024**2:.2f} MB\")\n",
        "\n"
      ]
    },
    {
      "cell_type": "markdown",
      "id": "db616f40",
      "metadata": {},
      "source": [
        "# Avaliação final"
      ]
    },
    {
      "cell_type": "code",
      "execution_count": 50,
      "id": "79379453",
      "metadata": {},
      "outputs": [],
      "source": [
        "from sklearn.metrics import classification_report"
      ]
    },
    {
      "cell_type": "code",
      "execution_count": 51,
      "id": "3dde0ecd",
      "metadata": {},
      "outputs": [],
      "source": [
        "# trainer._load_from_checkpoint(\"/exp/kenzosaki/data/LeanDL-HPC/models/modern_bert_10epochs_32bs_0.0002lr_0.001wd_1accsteps/checkpoint-6306\")"
      ]
    },
    {
      "cell_type": "code",
      "execution_count": 53,
      "id": "919cb442",
      "metadata": {},
      "outputs": [
        {
          "name": "stderr",
          "output_type": "stream",
          "text": [
            "\n",
            "***** Running Prediction *****\n",
            "  Num examples = 100\n",
            "  Batch size = 32\n"
          ]
        },
        {
          "name": "stdout",
          "output_type": "stream",
          "text": [
            "Memória usada antes: 1758.57 MB\n"
          ]
        },
        {
          "data": {
            "text/html": [],
            "text/plain": [
              "<IPython.core.display.HTML object>"
            ]
          },
          "metadata": {},
          "output_type": "display_data"
        },
        {
          "name": "stderr",
          "output_type": "stream",
          "text": [
            "/home/rvsantin/miniconda3/envs/challenge_bonito/lib/python3.11/site-packages/sklearn/metrics/_classification.py:1731: UndefinedMetricWarning: Precision is ill-defined and being set to 0.0 in labels with no predicted samples. Use `zero_division` parameter to control this behavior.\n",
            "  _warn_prf(average, modifier, f\"{metric.capitalize()} is\", result.shape[0])\n",
            "/home/rvsantin/miniconda3/envs/challenge_bonito/lib/python3.11/site-packages/sklearn/metrics/_classification.py:1731: UndefinedMetricWarning: Precision is ill-defined and being set to 0.0 in labels with no predicted samples. Use `zero_division` parameter to control this behavior.\n",
            "  _warn_prf(average, modifier, f\"{metric.capitalize()} is\", result.shape[0])\n",
            "/home/rvsantin/miniconda3/envs/challenge_bonito/lib/python3.11/site-packages/sklearn/metrics/_classification.py:1731: UndefinedMetricWarning: Precision is ill-defined and being set to 0.0 in labels with no predicted samples. Use `zero_division` parameter to control this behavior.\n",
            "  _warn_prf(average, modifier, f\"{metric.capitalize()} is\", result.shape[0])\n"
          ]
        },
        {
          "name": "stdout",
          "output_type": "stream",
          "text": [
            "Memória atualmente alocada: 1758.57 MB\n",
            "Máxima memória usada até agora: 2665.08 MB\n",
            "Memória usada no treinamento: 0.00 MB\n"
          ]
        }
      ],
      "source": [
        "torch.cuda.empty_cache()\n",
        "torch.cuda.reset_peak_memory_stats()\n",
        "memory_before = torch.cuda.memory_allocated()\n",
        "print(f\"Memória usada antes: {torch.cuda.memory_allocated()/1024**2:.2f} MB\")\n",
        "\n",
        "preds = trainer.predict(test_ds.select(range(100)))\n",
        "\n",
        "print(f\"Memória atualmente alocada: {torch.cuda.memory_allocated()/1024**2:.2f} MB\")\n",
        "print(f\"Máxima memória usada até agora: {torch.cuda.max_memory_allocated()/1024**2:.2f} MB\")\n",
        "print(f\"Memória usada no treinamento: {(memory_after-memory_before)/1024**2:.2f} MB\")\n"
      ]
    },
    {
      "cell_type": "code",
      "execution_count": null,
      "id": "d5e50e95",
      "metadata": {},
      "outputs": [],
      "source": []
    }
  ],
  "metadata": {
    "accelerator": "GPU",
    "colab": {
      "gpuType": "T4",
      "provenance": []
    },
    "kernelspec": {
      "display_name": "challenge_bonito",
      "language": "python",
      "name": "python3"
    },
    "language_info": {
      "codemirror_mode": {
        "name": "ipython",
        "version": 3
      },
      "file_extension": ".py",
      "mimetype": "text/x-python",
      "name": "python",
      "nbconvert_exporter": "python",
      "pygments_lexer": "ipython3",
      "version": "3.11.5"
    },
    "widgets": {
      "application/vnd.jupyter.widget-state+json": {
        "0e046339f93946889a718fc04abb72d2": {
          "model_module": "@jupyter-widgets/base",
          "model_module_version": "1.2.0",
          "model_name": "LayoutModel",
          "state": {
            "_model_module": "@jupyter-widgets/base",
            "_model_module_version": "1.2.0",
            "_model_name": "LayoutModel",
            "_view_count": null,
            "_view_module": "@jupyter-widgets/base",
            "_view_module_version": "1.2.0",
            "_view_name": "LayoutView",
            "align_content": null,
            "align_items": null,
            "align_self": null,
            "border": null,
            "bottom": null,
            "display": null,
            "flex": null,
            "flex_flow": null,
            "grid_area": null,
            "grid_auto_columns": null,
            "grid_auto_flow": null,
            "grid_auto_rows": null,
            "grid_column": null,
            "grid_gap": null,
            "grid_row": null,
            "grid_template_areas": null,
            "grid_template_columns": null,
            "grid_template_rows": null,
            "height": null,
            "justify_content": null,
            "justify_items": null,
            "left": null,
            "margin": null,
            "max_height": null,
            "max_width": null,
            "min_height": null,
            "min_width": null,
            "object_fit": null,
            "object_position": null,
            "order": null,
            "overflow": null,
            "overflow_x": null,
            "overflow_y": null,
            "padding": null,
            "right": null,
            "top": null,
            "visibility": null,
            "width": null
          }
        },
        "1337d826cc1c432fb0ff426f76aa0a40": {
          "model_module": "@jupyter-widgets/base",
          "model_module_version": "1.2.0",
          "model_name": "LayoutModel",
          "state": {
            "_model_module": "@jupyter-widgets/base",
            "_model_module_version": "1.2.0",
            "_model_name": "LayoutModel",
            "_view_count": null,
            "_view_module": "@jupyter-widgets/base",
            "_view_module_version": "1.2.0",
            "_view_name": "LayoutView",
            "align_content": null,
            "align_items": null,
            "align_self": null,
            "border": null,
            "bottom": null,
            "display": null,
            "flex": null,
            "flex_flow": null,
            "grid_area": null,
            "grid_auto_columns": null,
            "grid_auto_flow": null,
            "grid_auto_rows": null,
            "grid_column": null,
            "grid_gap": null,
            "grid_row": null,
            "grid_template_areas": null,
            "grid_template_columns": null,
            "grid_template_rows": null,
            "height": null,
            "justify_content": null,
            "justify_items": null,
            "left": null,
            "margin": null,
            "max_height": null,
            "max_width": null,
            "min_height": null,
            "min_width": null,
            "object_fit": null,
            "object_position": null,
            "order": null,
            "overflow": null,
            "overflow_x": null,
            "overflow_y": null,
            "padding": null,
            "right": null,
            "top": null,
            "visibility": null,
            "width": null
          }
        },
        "18e619f6680440adb94aa980b1e89f97": {
          "model_module": "@jupyter-widgets/base",
          "model_module_version": "1.2.0",
          "model_name": "LayoutModel",
          "state": {
            "_model_module": "@jupyter-widgets/base",
            "_model_module_version": "1.2.0",
            "_model_name": "LayoutModel",
            "_view_count": null,
            "_view_module": "@jupyter-widgets/base",
            "_view_module_version": "1.2.0",
            "_view_name": "LayoutView",
            "align_content": null,
            "align_items": null,
            "align_self": null,
            "border": null,
            "bottom": null,
            "display": null,
            "flex": null,
            "flex_flow": null,
            "grid_area": null,
            "grid_auto_columns": null,
            "grid_auto_flow": null,
            "grid_auto_rows": null,
            "grid_column": null,
            "grid_gap": null,
            "grid_row": null,
            "grid_template_areas": null,
            "grid_template_columns": null,
            "grid_template_rows": null,
            "height": null,
            "justify_content": null,
            "justify_items": null,
            "left": null,
            "margin": null,
            "max_height": null,
            "max_width": null,
            "min_height": null,
            "min_width": null,
            "object_fit": null,
            "object_position": null,
            "order": null,
            "overflow": null,
            "overflow_x": null,
            "overflow_y": null,
            "padding": null,
            "right": null,
            "top": null,
            "visibility": null,
            "width": null
          }
        },
        "2d770cacc1c643048bd07fb695d9feab": {
          "model_module": "@jupyter-widgets/controls",
          "model_module_version": "1.5.0",
          "model_name": "FloatProgressModel",
          "state": {
            "_dom_classes": [],
            "_model_module": "@jupyter-widgets/controls",
            "_model_module_version": "1.5.0",
            "_model_name": "FloatProgressModel",
            "_view_count": null,
            "_view_module": "@jupyter-widgets/controls",
            "_view_module_version": "1.5.0",
            "_view_name": "ProgressView",
            "bar_style": "success",
            "description": "",
            "description_tooltip": null,
            "layout": "IPY_MODEL_7c901c88a5184cf49be3c99d2130d994",
            "max": 7999,
            "min": 0,
            "orientation": "horizontal",
            "style": "IPY_MODEL_7f2c3f88e34f421ca1c2f724b9a145f9",
            "value": 7999
          }
        },
        "2eee9befa38348a58e9e1f89be177aa5": {
          "model_module": "@jupyter-widgets/controls",
          "model_module_version": "1.5.0",
          "model_name": "DescriptionStyleModel",
          "state": {
            "_model_module": "@jupyter-widgets/controls",
            "_model_module_version": "1.5.0",
            "_model_name": "DescriptionStyleModel",
            "_view_count": null,
            "_view_module": "@jupyter-widgets/base",
            "_view_module_version": "1.2.0",
            "_view_name": "StyleView",
            "description_width": ""
          }
        },
        "3128da4fe1c64711ae51801d3ff854e2": {
          "model_module": "@jupyter-widgets/controls",
          "model_module_version": "1.5.0",
          "model_name": "FloatProgressModel",
          "state": {
            "_dom_classes": [],
            "_model_module": "@jupyter-widgets/controls",
            "_model_module_version": "1.5.0",
            "_model_name": "FloatProgressModel",
            "_view_count": null,
            "_view_module": "@jupyter-widgets/controls",
            "_view_module_version": "1.5.0",
            "_view_name": "ProgressView",
            "bar_style": "success",
            "description": "",
            "description_tooltip": null,
            "layout": "IPY_MODEL_e6b279d9b02f4a0e9f670243083008b0",
            "max": 2000,
            "min": 0,
            "orientation": "horizontal",
            "style": "IPY_MODEL_e668ba65bdc342b5b749c7146f6f9f27",
            "value": 2000
          }
        },
        "43a1c8c0ea054197a64423b736920a8e": {
          "model_module": "@jupyter-widgets/controls",
          "model_module_version": "1.5.0",
          "model_name": "HTMLModel",
          "state": {
            "_dom_classes": [],
            "_model_module": "@jupyter-widgets/controls",
            "_model_module_version": "1.5.0",
            "_model_name": "HTMLModel",
            "_view_count": null,
            "_view_module": "@jupyter-widgets/controls",
            "_view_module_version": "1.5.0",
            "_view_name": "HTMLView",
            "description": "",
            "description_tooltip": null,
            "layout": "IPY_MODEL_c222a8bf0073423a8065d3ec330d5ee8",
            "placeholder": "​",
            "style": "IPY_MODEL_833a450e4a914a68beeeac27ef2e808c",
            "value": "Map: 100%"
          }
        },
        "6eb3b183113d42f5a44dcec5cbd1bb89": {
          "model_module": "@jupyter-widgets/controls",
          "model_module_version": "1.5.0",
          "model_name": "HTMLModel",
          "state": {
            "_dom_classes": [],
            "_model_module": "@jupyter-widgets/controls",
            "_model_module_version": "1.5.0",
            "_model_name": "HTMLModel",
            "_view_count": null,
            "_view_module": "@jupyter-widgets/controls",
            "_view_module_version": "1.5.0",
            "_view_name": "HTMLView",
            "description": "",
            "description_tooltip": null,
            "layout": "IPY_MODEL_e4626f82fbe5407ba5fba7f63cfec5f6",
            "placeholder": "​",
            "style": "IPY_MODEL_2eee9befa38348a58e9e1f89be177aa5",
            "value": "Map: 100%"
          }
        },
        "6f3e73f3dad441cdbd7e94497543fa66": {
          "model_module": "@jupyter-widgets/controls",
          "model_module_version": "1.5.0",
          "model_name": "HBoxModel",
          "state": {
            "_dom_classes": [],
            "_model_module": "@jupyter-widgets/controls",
            "_model_module_version": "1.5.0",
            "_model_name": "HBoxModel",
            "_view_count": null,
            "_view_module": "@jupyter-widgets/controls",
            "_view_module_version": "1.5.0",
            "_view_name": "HBoxView",
            "box_style": "",
            "children": [
              "IPY_MODEL_6eb3b183113d42f5a44dcec5cbd1bb89",
              "IPY_MODEL_3128da4fe1c64711ae51801d3ff854e2",
              "IPY_MODEL_73a96be96b074ad5997ae68b5e2eb8ce"
            ],
            "layout": "IPY_MODEL_0e046339f93946889a718fc04abb72d2"
          }
        },
        "73a96be96b074ad5997ae68b5e2eb8ce": {
          "model_module": "@jupyter-widgets/controls",
          "model_module_version": "1.5.0",
          "model_name": "HTMLModel",
          "state": {
            "_dom_classes": [],
            "_model_module": "@jupyter-widgets/controls",
            "_model_module_version": "1.5.0",
            "_model_name": "HTMLModel",
            "_view_count": null,
            "_view_module": "@jupyter-widgets/controls",
            "_view_module_version": "1.5.0",
            "_view_name": "HTMLView",
            "description": "",
            "description_tooltip": null,
            "layout": "IPY_MODEL_18e619f6680440adb94aa980b1e89f97",
            "placeholder": "​",
            "style": "IPY_MODEL_aeec25216770453cbf08207b00eb58a1",
            "value": " 2000/2000 [00:03&lt;00:00, 541.69 examples/s]"
          }
        },
        "7c901c88a5184cf49be3c99d2130d994": {
          "model_module": "@jupyter-widgets/base",
          "model_module_version": "1.2.0",
          "model_name": "LayoutModel",
          "state": {
            "_model_module": "@jupyter-widgets/base",
            "_model_module_version": "1.2.0",
            "_model_name": "LayoutModel",
            "_view_count": null,
            "_view_module": "@jupyter-widgets/base",
            "_view_module_version": "1.2.0",
            "_view_name": "LayoutView",
            "align_content": null,
            "align_items": null,
            "align_self": null,
            "border": null,
            "bottom": null,
            "display": null,
            "flex": null,
            "flex_flow": null,
            "grid_area": null,
            "grid_auto_columns": null,
            "grid_auto_flow": null,
            "grid_auto_rows": null,
            "grid_column": null,
            "grid_gap": null,
            "grid_row": null,
            "grid_template_areas": null,
            "grid_template_columns": null,
            "grid_template_rows": null,
            "height": null,
            "justify_content": null,
            "justify_items": null,
            "left": null,
            "margin": null,
            "max_height": null,
            "max_width": null,
            "min_height": null,
            "min_width": null,
            "object_fit": null,
            "object_position": null,
            "order": null,
            "overflow": null,
            "overflow_x": null,
            "overflow_y": null,
            "padding": null,
            "right": null,
            "top": null,
            "visibility": null,
            "width": null
          }
        },
        "7f2c3f88e34f421ca1c2f724b9a145f9": {
          "model_module": "@jupyter-widgets/controls",
          "model_module_version": "1.5.0",
          "model_name": "ProgressStyleModel",
          "state": {
            "_model_module": "@jupyter-widgets/controls",
            "_model_module_version": "1.5.0",
            "_model_name": "ProgressStyleModel",
            "_view_count": null,
            "_view_module": "@jupyter-widgets/base",
            "_view_module_version": "1.2.0",
            "_view_name": "StyleView",
            "bar_color": null,
            "description_width": ""
          }
        },
        "833a450e4a914a68beeeac27ef2e808c": {
          "model_module": "@jupyter-widgets/controls",
          "model_module_version": "1.5.0",
          "model_name": "DescriptionStyleModel",
          "state": {
            "_model_module": "@jupyter-widgets/controls",
            "_model_module_version": "1.5.0",
            "_model_name": "DescriptionStyleModel",
            "_view_count": null,
            "_view_module": "@jupyter-widgets/base",
            "_view_module_version": "1.2.0",
            "_view_name": "StyleView",
            "description_width": ""
          }
        },
        "a6da50e3375f4dcdb9e7975e8fe07813": {
          "model_module": "@jupyter-widgets/controls",
          "model_module_version": "1.5.0",
          "model_name": "DescriptionStyleModel",
          "state": {
            "_model_module": "@jupyter-widgets/controls",
            "_model_module_version": "1.5.0",
            "_model_name": "DescriptionStyleModel",
            "_view_count": null,
            "_view_module": "@jupyter-widgets/base",
            "_view_module_version": "1.2.0",
            "_view_name": "StyleView",
            "description_width": ""
          }
        },
        "aeec25216770453cbf08207b00eb58a1": {
          "model_module": "@jupyter-widgets/controls",
          "model_module_version": "1.5.0",
          "model_name": "DescriptionStyleModel",
          "state": {
            "_model_module": "@jupyter-widgets/controls",
            "_model_module_version": "1.5.0",
            "_model_name": "DescriptionStyleModel",
            "_view_count": null,
            "_view_module": "@jupyter-widgets/base",
            "_view_module_version": "1.2.0",
            "_view_name": "StyleView",
            "description_width": ""
          }
        },
        "c222a8bf0073423a8065d3ec330d5ee8": {
          "model_module": "@jupyter-widgets/base",
          "model_module_version": "1.2.0",
          "model_name": "LayoutModel",
          "state": {
            "_model_module": "@jupyter-widgets/base",
            "_model_module_version": "1.2.0",
            "_model_name": "LayoutModel",
            "_view_count": null,
            "_view_module": "@jupyter-widgets/base",
            "_view_module_version": "1.2.0",
            "_view_name": "LayoutView",
            "align_content": null,
            "align_items": null,
            "align_self": null,
            "border": null,
            "bottom": null,
            "display": null,
            "flex": null,
            "flex_flow": null,
            "grid_area": null,
            "grid_auto_columns": null,
            "grid_auto_flow": null,
            "grid_auto_rows": null,
            "grid_column": null,
            "grid_gap": null,
            "grid_row": null,
            "grid_template_areas": null,
            "grid_template_columns": null,
            "grid_template_rows": null,
            "height": null,
            "justify_content": null,
            "justify_items": null,
            "left": null,
            "margin": null,
            "max_height": null,
            "max_width": null,
            "min_height": null,
            "min_width": null,
            "object_fit": null,
            "object_position": null,
            "order": null,
            "overflow": null,
            "overflow_x": null,
            "overflow_y": null,
            "padding": null,
            "right": null,
            "top": null,
            "visibility": null,
            "width": null
          }
        },
        "dbc66082c62b490fa51a30de84fb93ed": {
          "model_module": "@jupyter-widgets/controls",
          "model_module_version": "1.5.0",
          "model_name": "HTMLModel",
          "state": {
            "_dom_classes": [],
            "_model_module": "@jupyter-widgets/controls",
            "_model_module_version": "1.5.0",
            "_model_name": "HTMLModel",
            "_view_count": null,
            "_view_module": "@jupyter-widgets/controls",
            "_view_module_version": "1.5.0",
            "_view_name": "HTMLView",
            "description": "",
            "description_tooltip": null,
            "layout": "IPY_MODEL_eea7e6f921aa4311bdfd10973dc80211",
            "placeholder": "​",
            "style": "IPY_MODEL_a6da50e3375f4dcdb9e7975e8fe07813",
            "value": " 7999/7999 [00:24&lt;00:00, 393.98 examples/s]"
          }
        },
        "e4626f82fbe5407ba5fba7f63cfec5f6": {
          "model_module": "@jupyter-widgets/base",
          "model_module_version": "1.2.0",
          "model_name": "LayoutModel",
          "state": {
            "_model_module": "@jupyter-widgets/base",
            "_model_module_version": "1.2.0",
            "_model_name": "LayoutModel",
            "_view_count": null,
            "_view_module": "@jupyter-widgets/base",
            "_view_module_version": "1.2.0",
            "_view_name": "LayoutView",
            "align_content": null,
            "align_items": null,
            "align_self": null,
            "border": null,
            "bottom": null,
            "display": null,
            "flex": null,
            "flex_flow": null,
            "grid_area": null,
            "grid_auto_columns": null,
            "grid_auto_flow": null,
            "grid_auto_rows": null,
            "grid_column": null,
            "grid_gap": null,
            "grid_row": null,
            "grid_template_areas": null,
            "grid_template_columns": null,
            "grid_template_rows": null,
            "height": null,
            "justify_content": null,
            "justify_items": null,
            "left": null,
            "margin": null,
            "max_height": null,
            "max_width": null,
            "min_height": null,
            "min_width": null,
            "object_fit": null,
            "object_position": null,
            "order": null,
            "overflow": null,
            "overflow_x": null,
            "overflow_y": null,
            "padding": null,
            "right": null,
            "top": null,
            "visibility": null,
            "width": null
          }
        },
        "e668ba65bdc342b5b749c7146f6f9f27": {
          "model_module": "@jupyter-widgets/controls",
          "model_module_version": "1.5.0",
          "model_name": "ProgressStyleModel",
          "state": {
            "_model_module": "@jupyter-widgets/controls",
            "_model_module_version": "1.5.0",
            "_model_name": "ProgressStyleModel",
            "_view_count": null,
            "_view_module": "@jupyter-widgets/base",
            "_view_module_version": "1.2.0",
            "_view_name": "StyleView",
            "bar_color": null,
            "description_width": ""
          }
        },
        "e6b279d9b02f4a0e9f670243083008b0": {
          "model_module": "@jupyter-widgets/base",
          "model_module_version": "1.2.0",
          "model_name": "LayoutModel",
          "state": {
            "_model_module": "@jupyter-widgets/base",
            "_model_module_version": "1.2.0",
            "_model_name": "LayoutModel",
            "_view_count": null,
            "_view_module": "@jupyter-widgets/base",
            "_view_module_version": "1.2.0",
            "_view_name": "LayoutView",
            "align_content": null,
            "align_items": null,
            "align_self": null,
            "border": null,
            "bottom": null,
            "display": null,
            "flex": null,
            "flex_flow": null,
            "grid_area": null,
            "grid_auto_columns": null,
            "grid_auto_flow": null,
            "grid_auto_rows": null,
            "grid_column": null,
            "grid_gap": null,
            "grid_row": null,
            "grid_template_areas": null,
            "grid_template_columns": null,
            "grid_template_rows": null,
            "height": null,
            "justify_content": null,
            "justify_items": null,
            "left": null,
            "margin": null,
            "max_height": null,
            "max_width": null,
            "min_height": null,
            "min_width": null,
            "object_fit": null,
            "object_position": null,
            "order": null,
            "overflow": null,
            "overflow_x": null,
            "overflow_y": null,
            "padding": null,
            "right": null,
            "top": null,
            "visibility": null,
            "width": null
          }
        },
        "eea7e6f921aa4311bdfd10973dc80211": {
          "model_module": "@jupyter-widgets/base",
          "model_module_version": "1.2.0",
          "model_name": "LayoutModel",
          "state": {
            "_model_module": "@jupyter-widgets/base",
            "_model_module_version": "1.2.0",
            "_model_name": "LayoutModel",
            "_view_count": null,
            "_view_module": "@jupyter-widgets/base",
            "_view_module_version": "1.2.0",
            "_view_name": "LayoutView",
            "align_content": null,
            "align_items": null,
            "align_self": null,
            "border": null,
            "bottom": null,
            "display": null,
            "flex": null,
            "flex_flow": null,
            "grid_area": null,
            "grid_auto_columns": null,
            "grid_auto_flow": null,
            "grid_auto_rows": null,
            "grid_column": null,
            "grid_gap": null,
            "grid_row": null,
            "grid_template_areas": null,
            "grid_template_columns": null,
            "grid_template_rows": null,
            "height": null,
            "justify_content": null,
            "justify_items": null,
            "left": null,
            "margin": null,
            "max_height": null,
            "max_width": null,
            "min_height": null,
            "min_width": null,
            "object_fit": null,
            "object_position": null,
            "order": null,
            "overflow": null,
            "overflow_x": null,
            "overflow_y": null,
            "padding": null,
            "right": null,
            "top": null,
            "visibility": null,
            "width": null
          }
        },
        "fd2a334c9801427bad43d0f577909373": {
          "model_module": "@jupyter-widgets/controls",
          "model_module_version": "1.5.0",
          "model_name": "HBoxModel",
          "state": {
            "_dom_classes": [],
            "_model_module": "@jupyter-widgets/controls",
            "_model_module_version": "1.5.0",
            "_model_name": "HBoxModel",
            "_view_count": null,
            "_view_module": "@jupyter-widgets/controls",
            "_view_module_version": "1.5.0",
            "_view_name": "HBoxView",
            "box_style": "",
            "children": [
              "IPY_MODEL_43a1c8c0ea054197a64423b736920a8e",
              "IPY_MODEL_2d770cacc1c643048bd07fb695d9feab",
              "IPY_MODEL_dbc66082c62b490fa51a30de84fb93ed"
            ],
            "layout": "IPY_MODEL_1337d826cc1c432fb0ff426f76aa0a40"
          }
        }
      }
    }
  },
  "nbformat": 4,
  "nbformat_minor": 5
}
